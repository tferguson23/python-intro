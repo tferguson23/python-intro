{
 "cells": [
  {
   "cell_type": "markdown",
   "metadata": {},
   "source": [
    "Hey there! [Here](https://www.w3schools.com/python/pandas/default.asp) is an overview of Pandas. This is a 14 part series, and you can begin with the introduction [here](https://www.w3schools.com/python/pandas/pandas_intro.asp). \n",
    "\n",
    "See if you can get through the whole Basic section this week. All of this is in Python, so your fundamentals should improve by doing this. \n",
    "\n",
    "\n",
    "Bonus points if you create a new file in this repo called `pandas_notes.md` and take notes on what you're learning. I've added a markdown reference to `resources.md` so you can get a feel for markup languages and how useful they are. Text me with questions. Bon chance!"
   ]
  }
 ],
 "metadata": {
  "language_info": {
   "name": "python"
  },
  "orig_nbformat": 4
 },
 "nbformat": 4,
 "nbformat_minor": 2
}
